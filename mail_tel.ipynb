{
  "nbformat": 4,
  "nbformat_minor": 0,
  "metadata": {
    "colab": {
      "name": "mail_tel.ipynb",
      "provenance": [],
      "collapsed_sections": []
    },
    "kernelspec": {
      "name": "python3",
      "display_name": "Python 3"
    }
  },
  "cells": [
    {
      "cell_type": "code",
      "metadata": {
        "id": "X8TAsr2Td32z"
      },
      "source": [
        "import numpy"
      ],
      "execution_count": 2,
      "outputs": []
    },
    {
      "cell_type": "code",
      "metadata": {
        "id": "o20JwARQd6fa"
      },
      "source": [
        "xx = numpy.array([6, 7, 8, 9, 10, 11, 12, 13, 14])"
      ],
      "execution_count": 3,
      "outputs": []
    },
    {
      "cell_type": "code",
      "metadata": {
        "id": "X6epmf5Xd6iX"
      },
      "source": [
        "import itertools\n",
        "allPermutations = itertools.permutations(xx, 2)\n",
        "Sum1Permutations = [x for x in allPermutations if sum(x) == 14]"
      ],
      "execution_count": 4,
      "outputs": []
    },
    {
      "cell_type": "code",
      "metadata": {
        "id": "h_9Zx8T_d6ln",
        "outputId": "a6a6b5ea-9411-4969-e8ac-9d81d4f98f3c",
        "colab": {
          "base_uri": "https://localhost:8080/",
          "height": 34
        }
      },
      "source": [
        "Sum1Permutations"
      ],
      "execution_count": null,
      "outputs": [
        {
          "output_type": "execute_result",
          "data": {
            "text/plain": [
              "[(6, 8), (8, 6)]"
            ]
          },
          "metadata": {
            "tags": []
          },
          "execution_count": 7
        }
      ]
    },
    {
      "cell_type": "code",
      "metadata": {
        "id": "q98PjN9qee6V"
      },
      "source": [
        "import pandas as pd"
      ],
      "execution_count": 5,
      "outputs": []
    },
    {
      "cell_type": "code",
      "metadata": {
        "id": "pmIgbCrEee9F",
        "outputId": "a07e7237-b28c-4d1f-b7a7-0dea4415d3ac",
        "colab": {
          "base_uri": "https://localhost:8080/",
          "height": 204
        }
      },
      "source": [
        "data = pd.read_csv('logs.csv', names = ['mail', 'tel'])\n",
        "data.head()"
      ],
      "execution_count": 7,
      "outputs": [
        {
          "output_type": "execute_result",
          "data": {
            "text/html": [
              "<div>\n",
              "<style scoped>\n",
              "    .dataframe tbody tr th:only-of-type {\n",
              "        vertical-align: middle;\n",
              "    }\n",
              "\n",
              "    .dataframe tbody tr th {\n",
              "        vertical-align: top;\n",
              "    }\n",
              "\n",
              "    .dataframe thead th {\n",
              "        text-align: right;\n",
              "    }\n",
              "</style>\n",
              "<table border=\"1\" class=\"dataframe\">\n",
              "  <thead>\n",
              "    <tr style=\"text-align: right;\">\n",
              "      <th></th>\n",
              "      <th>mail</th>\n",
              "      <th>tel</th>\n",
              "    </tr>\n",
              "  </thead>\n",
              "  <tbody>\n",
              "    <tr>\n",
              "      <th>0</th>\n",
              "      <td>user_8925@contest.yandex.ru</td>\n",
              "      <td>8.801111e+11</td>\n",
              "    </tr>\n",
              "    <tr>\n",
              "      <th>1</th>\n",
              "      <td>user_9425@contest.yandex.ru</td>\n",
              "      <td>8.801111e+11</td>\n",
              "    </tr>\n",
              "    <tr>\n",
              "      <th>2</th>\n",
              "      <td>user_8635@contest.yandex.ru</td>\n",
              "      <td>8.801111e+11</td>\n",
              "    </tr>\n",
              "    <tr>\n",
              "      <th>3</th>\n",
              "      <td>user_4320@contest.yandex.ru</td>\n",
              "      <td>8.801111e+11</td>\n",
              "    </tr>\n",
              "    <tr>\n",
              "      <th>4</th>\n",
              "      <td>user_4316@contest.yandex.ru</td>\n",
              "      <td>8.801111e+11</td>\n",
              "    </tr>\n",
              "  </tbody>\n",
              "</table>\n",
              "</div>"
            ],
            "text/plain": [
              "                          mail           tel\n",
              "0  user_8925@contest.yandex.ru  8.801111e+11\n",
              "1  user_9425@contest.yandex.ru  8.801111e+11\n",
              "2  user_8635@contest.yandex.ru  8.801111e+11\n",
              "3  user_4320@contest.yandex.ru  8.801111e+11\n",
              "4  user_4316@contest.yandex.ru  8.801111e+11"
            ]
          },
          "metadata": {
            "tags": []
          },
          "execution_count": 7
        }
      ]
    },
    {
      "cell_type": "code",
      "metadata": {
        "id": "ah4OMWBdHhhy",
        "outputId": "cf2e0e2a-1175-46b5-d440-64118a9b83bc",
        "colab": {
          "base_uri": "https://localhost:8080/",
          "height": 204
        }
      },
      "source": [
        "data['tel'] = data['tel'].apply(str)\n",
        "data.head()"
      ],
      "execution_count": 8,
      "outputs": [
        {
          "output_type": "execute_result",
          "data": {
            "text/html": [
              "<div>\n",
              "<style scoped>\n",
              "    .dataframe tbody tr th:only-of-type {\n",
              "        vertical-align: middle;\n",
              "    }\n",
              "\n",
              "    .dataframe tbody tr th {\n",
              "        vertical-align: top;\n",
              "    }\n",
              "\n",
              "    .dataframe thead th {\n",
              "        text-align: right;\n",
              "    }\n",
              "</style>\n",
              "<table border=\"1\" class=\"dataframe\">\n",
              "  <thead>\n",
              "    <tr style=\"text-align: right;\">\n",
              "      <th></th>\n",
              "      <th>mail</th>\n",
              "      <th>tel</th>\n",
              "    </tr>\n",
              "  </thead>\n",
              "  <tbody>\n",
              "    <tr>\n",
              "      <th>0</th>\n",
              "      <td>user_8925@contest.yandex.ru</td>\n",
              "      <td>880111119276.0</td>\n",
              "    </tr>\n",
              "    <tr>\n",
              "      <th>1</th>\n",
              "      <td>user_9425@contest.yandex.ru</td>\n",
              "      <td>880111116374.0</td>\n",
              "    </tr>\n",
              "    <tr>\n",
              "      <th>2</th>\n",
              "      <td>user_8635@contest.yandex.ru</td>\n",
              "      <td>880111110159.0</td>\n",
              "    </tr>\n",
              "    <tr>\n",
              "      <th>3</th>\n",
              "      <td>user_4320@contest.yandex.ru</td>\n",
              "      <td>880111114862.0</td>\n",
              "    </tr>\n",
              "    <tr>\n",
              "      <th>4</th>\n",
              "      <td>user_4316@contest.yandex.ru</td>\n",
              "      <td>880111115910.0</td>\n",
              "    </tr>\n",
              "  </tbody>\n",
              "</table>\n",
              "</div>"
            ],
            "text/plain": [
              "                          mail             tel\n",
              "0  user_8925@contest.yandex.ru  880111119276.0\n",
              "1  user_9425@contest.yandex.ru  880111116374.0\n",
              "2  user_8635@contest.yandex.ru  880111110159.0\n",
              "3  user_4320@contest.yandex.ru  880111114862.0\n",
              "4  user_4316@contest.yandex.ru  880111115910.0"
            ]
          },
          "metadata": {
            "tags": []
          },
          "execution_count": 8
        }
      ]
    },
    {
      "cell_type": "code",
      "metadata": {
        "id": "Yqh3UkcYee__"
      },
      "source": [
        "users_data = dict()\n",
        "\n",
        "mails = data.mail\n",
        "tels = data.tel\n",
        "counter = 0\n",
        "for i in range(data.shape[0]):\n",
        "  if (mails[i] in users_data) & (tels[i] in users_data):\n",
        "    if users_data[mails[i]] != users_data[tels[i]]:\n",
        "      min_val = min([users_data[mails[i]], users_data[tels[i]]])\n",
        "      max_val = max([users_data[mails[i]], users_data[tels[i]]])\n",
        "      for (key, value) in users_data.items():\n",
        "        if value == max_val:\n",
        "          users_data[key] = min_val\n",
        "  elif (mails[i] in users_data):\n",
        "    if (tels[i] not in users_data):\n",
        "      users_data[tels[i]] = users_data[mails[i]]\n",
        "  elif (tels[i] in users_data):\n",
        "    if (mails[i] not in users_data):\n",
        "      users_data[mails[i]] = users_data[tels[i]]\n",
        "  elif (mails[i] not in users_data) & (tels[i] not in users_data):\n",
        "    counter += 1\n",
        "    users_data[mails[i]] = counter\n",
        "    users_data[tels[i]] = counter\n"
      ],
      "execution_count": 12,
      "outputs": []
    },
    {
      "cell_type": "code",
      "metadata": {
        "id": "5U5VqHy3BRrn",
        "outputId": "e9c5059d-908f-45b6-a46d-55d55967f9d5",
        "colab": {
          "base_uri": "https://localhost:8080/"
        }
      },
      "source": [
        "len(users_data)"
      ],
      "execution_count": 13,
      "outputs": [
        {
          "output_type": "execute_result",
          "data": {
            "text/plain": [
              "8209"
            ]
          },
          "metadata": {
            "tags": []
          },
          "execution_count": 13
        }
      ]
    },
    {
      "cell_type": "code",
      "metadata": {
        "id": "zEmoq_PFgxQ9",
        "outputId": "b266f861-008b-4f96-a9e8-2dfb58cf619b",
        "colab": {
          "base_uri": "https://localhost:8080/",
          "height": 204
        }
      },
      "source": [
        "users_final = pd.DataFrame.from_dict(users_data, orient='index', columns = ['key'])\n",
        "users_final.head()"
      ],
      "execution_count": 14,
      "outputs": [
        {
          "output_type": "execute_result",
          "data": {
            "text/html": [
              "<div>\n",
              "<style scoped>\n",
              "    .dataframe tbody tr th:only-of-type {\n",
              "        vertical-align: middle;\n",
              "    }\n",
              "\n",
              "    .dataframe tbody tr th {\n",
              "        vertical-align: top;\n",
              "    }\n",
              "\n",
              "    .dataframe thead th {\n",
              "        text-align: right;\n",
              "    }\n",
              "</style>\n",
              "<table border=\"1\" class=\"dataframe\">\n",
              "  <thead>\n",
              "    <tr style=\"text-align: right;\">\n",
              "      <th></th>\n",
              "      <th>key</th>\n",
              "    </tr>\n",
              "  </thead>\n",
              "  <tbody>\n",
              "    <tr>\n",
              "      <th>user_8925@contest.yandex.ru</th>\n",
              "      <td>1</td>\n",
              "    </tr>\n",
              "    <tr>\n",
              "      <th>880111119276.0</th>\n",
              "      <td>1</td>\n",
              "    </tr>\n",
              "    <tr>\n",
              "      <th>user_9425@contest.yandex.ru</th>\n",
              "      <td>2</td>\n",
              "    </tr>\n",
              "    <tr>\n",
              "      <th>880111116374.0</th>\n",
              "      <td>2</td>\n",
              "    </tr>\n",
              "    <tr>\n",
              "      <th>user_8635@contest.yandex.ru</th>\n",
              "      <td>3</td>\n",
              "    </tr>\n",
              "  </tbody>\n",
              "</table>\n",
              "</div>"
            ],
            "text/plain": [
              "                             key\n",
              "user_8925@contest.yandex.ru    1\n",
              "880111119276.0                 1\n",
              "user_9425@contest.yandex.ru    2\n",
              "880111116374.0                 2\n",
              "user_8635@contest.yandex.ru    3"
            ]
          },
          "metadata": {
            "tags": []
          },
          "execution_count": 14
        }
      ]
    },
    {
      "cell_type": "code",
      "metadata": {
        "id": "bafmHqayDBGY",
        "outputId": "00e5cc66-f002-4cab-f853-becff3410e4e",
        "colab": {
          "base_uri": "https://localhost:8080/"
        }
      },
      "source": [
        "users_final.shape"
      ],
      "execution_count": 15,
      "outputs": [
        {
          "output_type": "execute_result",
          "data": {
            "text/plain": [
              "(8209, 1)"
            ]
          },
          "metadata": {
            "tags": []
          },
          "execution_count": 15
        }
      ]
    },
    {
      "cell_type": "code",
      "metadata": {
        "id": "KsnTiqdG22cU",
        "outputId": "92586308-6d94-4b27-863a-9fca0ff475df",
        "colab": {
          "base_uri": "https://localhost:8080/"
        }
      },
      "source": [
        "len(users_final.key.unique())"
      ],
      "execution_count": 16,
      "outputs": [
        {
          "output_type": "execute_result",
          "data": {
            "text/plain": [
              "2128"
            ]
          },
          "metadata": {
            "tags": []
          },
          "execution_count": 16
        }
      ]
    },
    {
      "cell_type": "code",
      "metadata": {
        "id": "-rs_jcJZCty7"
      },
      "source": [
        "import csv\n",
        "\n",
        "a_file = open(\"sample.csv\", \"w\")\n",
        "writer = csv.writer(a_file)\n",
        "for key, value in users_data.items():\n",
        "    writer.writerow([key, value])\n",
        "\n",
        "a_file.close()"
      ],
      "execution_count": 17,
      "outputs": []
    }
  ]
}