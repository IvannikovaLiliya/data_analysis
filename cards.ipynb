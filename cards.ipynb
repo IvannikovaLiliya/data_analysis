{
  "nbformat": 4,
  "nbformat_minor": 0,
  "metadata": {
    "colab": {
      "name": " cards.ipynb",
      "provenance": [],
      "collapsed_sections": []
    },
    "kernelspec": {
      "name": "python3",
      "display_name": "Python 3"
    }
  },
  "cells": [
    {
      "cell_type": "markdown",
      "metadata": {
        "id": "oQIgBXLVyY1J"
      },
      "source": [
        "Задача на карты"
      ]
    },
    {
      "cell_type": "code",
      "metadata": {
        "id": "my_SziQqyc7P"
      },
      "source": [
        "import numpy"
      ],
      "execution_count": 1,
      "outputs": []
    },
    {
      "cell_type": "code",
      "metadata": {
        "id": "crhWQ_HJydCh"
      },
      "source": [
        "xx = numpy.array([6, 7, 8, 9, 10, 11, 12, 13, 14, 6, 7, 8, 9, 10, 11, 12, 13, 14,\n",
        "                  6, 7, 8, 9, 10, 11, 12, 13, 14, 6, 7, 8, 9, 10, 11, 12, 13, 14])"
      ],
      "execution_count": 2,
      "outputs": []
    },
    {
      "cell_type": "code",
      "metadata": {
        "id": "EgAJi1UQydFr"
      },
      "source": [
        "import itertools\n",
        "allPermutations = itertools.permutations(xx, 6)\n",
        "Sum1Permutations = [x for x in allPermutations if sum(x) == 42]"
      ],
      "execution_count": null,
      "outputs": []
    },
    {
      "cell_type": "code",
      "metadata": {
        "id": "rjffHRUFykIb"
      },
      "source": [
        "len(Sum1Permutations)\n",
        "# 528480"
      ],
      "execution_count": null,
      "outputs": []
    },
    {
      "cell_type": "code",
      "metadata": {
        "id": "-pKFEbmUznKo"
      },
      "source": [
        "hole = 1947792 "
      ],
      "execution_count": null,
      "outputs": []
    },
    {
      "cell_type": "code",
      "metadata": {
        "id": "HVzVWjkFykMW"
      },
      "source": [
        "len(Sum1Permutations) / hole\n",
        "# 0.2713226052884497"
      ],
      "execution_count": null,
      "outputs": []
    }
  ]
}