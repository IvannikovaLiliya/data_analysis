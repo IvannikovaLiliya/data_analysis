{
  "nbformat": 4,
  "nbformat_minor": 0,
  "metadata": {
    "colab": {
      "name": "users_time.ipynb",
      "provenance": [],
      "collapsed_sections": []
    },
    "kernelspec": {
      "name": "python3",
      "display_name": "Python 3"
    }
  },
  "cells": [
    {
      "cell_type": "code",
      "metadata": {
        "id": "8_UwKUZy-Lc4"
      },
      "source": [
        "import pandas as pd\n",
        "import numpy as np"
      ],
      "execution_count": 1,
      "outputs": []
    },
    {
      "cell_type": "code",
      "metadata": {
        "id": "bNXngz_65i9V"
      },
      "source": [
        "data = pd.read_csv('log.csv', dayfirst = True, index_col=False)\n",
        "data['date'] = data.date.replace('_', ' ', regex=True)\n",
        "data['id'] = np.arange(data.shape[0])"
      ],
      "execution_count": 2,
      "outputs": []
    },
    {
      "cell_type": "code",
      "metadata": {
        "id": "iulwZjz_5jAP",
        "outputId": "a4150a1d-5233-4fa7-9698-7abaeaddf545",
        "colab": {
          "base_uri": "https://localhost:8080/",
          "height": 204
        }
      },
      "source": [
        "data.head()"
      ],
      "execution_count": 3,
      "outputs": [
        {
          "output_type": "execute_result",
          "data": {
            "text/html": [
              "<div>\n",
              "<style scoped>\n",
              "    .dataframe tbody tr th:only-of-type {\n",
              "        vertical-align: middle;\n",
              "    }\n",
              "\n",
              "    .dataframe tbody tr th {\n",
              "        vertical-align: top;\n",
              "    }\n",
              "\n",
              "    .dataframe thead th {\n",
              "        text-align: right;\n",
              "    }\n",
              "</style>\n",
              "<table border=\"1\" class=\"dataframe\">\n",
              "  <thead>\n",
              "    <tr style=\"text-align: right;\">\n",
              "      <th></th>\n",
              "      <th>date</th>\n",
              "      <th>user</th>\n",
              "      <th>event_type</th>\n",
              "      <th>parameter</th>\n",
              "      <th>id</th>\n",
              "    </tr>\n",
              "  </thead>\n",
              "  <tbody>\n",
              "    <tr>\n",
              "      <th>0</th>\n",
              "      <td>2020-04-01 00:05:46</td>\n",
              "      <td>180397</td>\n",
              "      <td>3</td>\n",
              "      <td>NaN</td>\n",
              "      <td>0</td>\n",
              "    </tr>\n",
              "    <tr>\n",
              "      <th>1</th>\n",
              "      <td>2020-04-01 00:00:21</td>\n",
              "      <td>662939</td>\n",
              "      <td>4</td>\n",
              "      <td>music</td>\n",
              "      <td>1</td>\n",
              "    </tr>\n",
              "    <tr>\n",
              "      <th>2</th>\n",
              "      <td>2020-04-01 00:20:50</td>\n",
              "      <td>703220</td>\n",
              "      <td>2</td>\n",
              "      <td>NaN</td>\n",
              "      <td>2</td>\n",
              "    </tr>\n",
              "    <tr>\n",
              "      <th>3</th>\n",
              "      <td>2020-04-01 00:22:31</td>\n",
              "      <td>405034</td>\n",
              "      <td>1</td>\n",
              "      <td>unknown</td>\n",
              "      <td>3</td>\n",
              "    </tr>\n",
              "    <tr>\n",
              "      <th>4</th>\n",
              "      <td>2020-04-01 00:30:21</td>\n",
              "      <td>662939</td>\n",
              "      <td>0</td>\n",
              "      <td>text</td>\n",
              "      <td>4</td>\n",
              "    </tr>\n",
              "  </tbody>\n",
              "</table>\n",
              "</div>"
            ],
            "text/plain": [
              "                  date    user  event_type parameter  id\n",
              "0  2020-04-01 00:05:46  180397           3       NaN   0\n",
              "1  2020-04-01 00:00:21  662939           4     music   1\n",
              "2  2020-04-01 00:20:50  703220           2       NaN   2\n",
              "3  2020-04-01 00:22:31  405034           1   unknown   3\n",
              "4  2020-04-01 00:30:21  662939           0      text   4"
            ]
          },
          "metadata": {
            "tags": []
          },
          "execution_count": 3
        }
      ]
    },
    {
      "cell_type": "code",
      "metadata": {
        "id": "Uecn0T2-5jDN",
        "outputId": "956a4be1-ebe0-4e5d-9a20-45b8d1da8f7f",
        "colab": {
          "base_uri": "https://localhost:8080/",
          "height": 204
        }
      },
      "source": [
        "data['DateTime'] = pd.to_datetime(data.date)\n",
        "data.drop(['date'], axis=1, inplace = True)\n",
        "data.head()"
      ],
      "execution_count": 4,
      "outputs": [
        {
          "output_type": "execute_result",
          "data": {
            "text/html": [
              "<div>\n",
              "<style scoped>\n",
              "    .dataframe tbody tr th:only-of-type {\n",
              "        vertical-align: middle;\n",
              "    }\n",
              "\n",
              "    .dataframe tbody tr th {\n",
              "        vertical-align: top;\n",
              "    }\n",
              "\n",
              "    .dataframe thead th {\n",
              "        text-align: right;\n",
              "    }\n",
              "</style>\n",
              "<table border=\"1\" class=\"dataframe\">\n",
              "  <thead>\n",
              "    <tr style=\"text-align: right;\">\n",
              "      <th></th>\n",
              "      <th>user</th>\n",
              "      <th>event_type</th>\n",
              "      <th>parameter</th>\n",
              "      <th>id</th>\n",
              "      <th>DateTime</th>\n",
              "    </tr>\n",
              "  </thead>\n",
              "  <tbody>\n",
              "    <tr>\n",
              "      <th>0</th>\n",
              "      <td>180397</td>\n",
              "      <td>3</td>\n",
              "      <td>NaN</td>\n",
              "      <td>0</td>\n",
              "      <td>2020-04-01 00:05:46</td>\n",
              "    </tr>\n",
              "    <tr>\n",
              "      <th>1</th>\n",
              "      <td>662939</td>\n",
              "      <td>4</td>\n",
              "      <td>music</td>\n",
              "      <td>1</td>\n",
              "      <td>2020-04-01 00:00:21</td>\n",
              "    </tr>\n",
              "    <tr>\n",
              "      <th>2</th>\n",
              "      <td>703220</td>\n",
              "      <td>2</td>\n",
              "      <td>NaN</td>\n",
              "      <td>2</td>\n",
              "      <td>2020-04-01 00:20:50</td>\n",
              "    </tr>\n",
              "    <tr>\n",
              "      <th>3</th>\n",
              "      <td>405034</td>\n",
              "      <td>1</td>\n",
              "      <td>unknown</td>\n",
              "      <td>3</td>\n",
              "      <td>2020-04-01 00:22:31</td>\n",
              "    </tr>\n",
              "    <tr>\n",
              "      <th>4</th>\n",
              "      <td>662939</td>\n",
              "      <td>0</td>\n",
              "      <td>text</td>\n",
              "      <td>4</td>\n",
              "      <td>2020-04-01 00:30:21</td>\n",
              "    </tr>\n",
              "  </tbody>\n",
              "</table>\n",
              "</div>"
            ],
            "text/plain": [
              "     user  event_type parameter  id            DateTime\n",
              "0  180397           3       NaN   0 2020-04-01 00:05:46\n",
              "1  662939           4     music   1 2020-04-01 00:00:21\n",
              "2  703220           2       NaN   2 2020-04-01 00:20:50\n",
              "3  405034           1   unknown   3 2020-04-01 00:22:31\n",
              "4  662939           0      text   4 2020-04-01 00:30:21"
            ]
          },
          "metadata": {
            "tags": []
          },
          "execution_count": 4
        }
      ]
    },
    {
      "cell_type": "code",
      "metadata": {
        "id": "K-wU0qh64fMB",
        "outputId": "b19788da-a656-4995-8a56-d1b4d4ecc9d7",
        "colab": {
          "base_uri": "https://localhost:8080/",
          "height": 204
        }
      },
      "source": [
        "data.sort_values(by=['user', 'DateTime'], inplace = True, ignore_index = True)\n",
        "data.head()"
      ],
      "execution_count": 6,
      "outputs": [
        {
          "output_type": "execute_result",
          "data": {
            "text/html": [
              "<div>\n",
              "<style scoped>\n",
              "    .dataframe tbody tr th:only-of-type {\n",
              "        vertical-align: middle;\n",
              "    }\n",
              "\n",
              "    .dataframe tbody tr th {\n",
              "        vertical-align: top;\n",
              "    }\n",
              "\n",
              "    .dataframe thead th {\n",
              "        text-align: right;\n",
              "    }\n",
              "</style>\n",
              "<table border=\"1\" class=\"dataframe\">\n",
              "  <thead>\n",
              "    <tr style=\"text-align: right;\">\n",
              "      <th></th>\n",
              "      <th>user</th>\n",
              "      <th>event_type</th>\n",
              "      <th>parameter</th>\n",
              "      <th>id</th>\n",
              "      <th>DateTime</th>\n",
              "    </tr>\n",
              "  </thead>\n",
              "  <tbody>\n",
              "    <tr>\n",
              "      <th>0</th>\n",
              "      <td>100392</td>\n",
              "      <td>1</td>\n",
              "      <td>text</td>\n",
              "      <td>18912</td>\n",
              "      <td>2020-04-03 13:03:14</td>\n",
              "    </tr>\n",
              "    <tr>\n",
              "      <th>1</th>\n",
              "      <td>100392</td>\n",
              "      <td>0</td>\n",
              "      <td>unknown</td>\n",
              "      <td>39539</td>\n",
              "      <td>2020-04-07 03:22:44</td>\n",
              "    </tr>\n",
              "    <tr>\n",
              "      <th>2</th>\n",
              "      <td>100392</td>\n",
              "      <td>0</td>\n",
              "      <td>unknown</td>\n",
              "      <td>45393</td>\n",
              "      <td>2020-04-07 17:56:25</td>\n",
              "    </tr>\n",
              "    <tr>\n",
              "      <th>3</th>\n",
              "      <td>100392</td>\n",
              "      <td>2</td>\n",
              "      <td>unknown</td>\n",
              "      <td>61641</td>\n",
              "      <td>2020-04-09 20:01:41</td>\n",
              "    </tr>\n",
              "    <tr>\n",
              "      <th>4</th>\n",
              "      <td>100392</td>\n",
              "      <td>4</td>\n",
              "      <td>unknown</td>\n",
              "      <td>75764</td>\n",
              "      <td>2020-04-12 22:06:12</td>\n",
              "    </tr>\n",
              "  </tbody>\n",
              "</table>\n",
              "</div>"
            ],
            "text/plain": [
              "     user  event_type parameter     id            DateTime\n",
              "0  100392           1      text  18912 2020-04-03 13:03:14\n",
              "1  100392           0   unknown  39539 2020-04-07 03:22:44\n",
              "2  100392           0   unknown  45393 2020-04-07 17:56:25\n",
              "3  100392           2   unknown  61641 2020-04-09 20:01:41\n",
              "4  100392           4   unknown  75764 2020-04-12 22:06:12"
            ]
          },
          "metadata": {
            "tags": []
          },
          "execution_count": 6
        }
      ]
    },
    {
      "cell_type": "code",
      "metadata": {
        "id": "IwuT5Me14fPQ",
        "outputId": "d78fb294-e7b3-49a8-dbe8-19c6ccc24b6e",
        "colab": {
          "base_uri": "https://localhost:8080/",
          "height": 204
        }
      },
      "source": [
        "data['diff'] = data.groupby('user')['DateTime'].diff(1)  # посчитаем разницу между временем посещения страницы и временем посещения предыдущей страницы\n",
        "data.head()"
      ],
      "execution_count": 7,
      "outputs": [
        {
          "output_type": "execute_result",
          "data": {
            "text/html": [
              "<div>\n",
              "<style scoped>\n",
              "    .dataframe tbody tr th:only-of-type {\n",
              "        vertical-align: middle;\n",
              "    }\n",
              "\n",
              "    .dataframe tbody tr th {\n",
              "        vertical-align: top;\n",
              "    }\n",
              "\n",
              "    .dataframe thead th {\n",
              "        text-align: right;\n",
              "    }\n",
              "</style>\n",
              "<table border=\"1\" class=\"dataframe\">\n",
              "  <thead>\n",
              "    <tr style=\"text-align: right;\">\n",
              "      <th></th>\n",
              "      <th>user</th>\n",
              "      <th>event_type</th>\n",
              "      <th>parameter</th>\n",
              "      <th>id</th>\n",
              "      <th>DateTime</th>\n",
              "      <th>diff</th>\n",
              "    </tr>\n",
              "  </thead>\n",
              "  <tbody>\n",
              "    <tr>\n",
              "      <th>0</th>\n",
              "      <td>100392</td>\n",
              "      <td>1</td>\n",
              "      <td>text</td>\n",
              "      <td>18912</td>\n",
              "      <td>2020-04-03 13:03:14</td>\n",
              "      <td>NaT</td>\n",
              "    </tr>\n",
              "    <tr>\n",
              "      <th>1</th>\n",
              "      <td>100392</td>\n",
              "      <td>0</td>\n",
              "      <td>unknown</td>\n",
              "      <td>39539</td>\n",
              "      <td>2020-04-07 03:22:44</td>\n",
              "      <td>3 days 14:19:30</td>\n",
              "    </tr>\n",
              "    <tr>\n",
              "      <th>2</th>\n",
              "      <td>100392</td>\n",
              "      <td>0</td>\n",
              "      <td>unknown</td>\n",
              "      <td>45393</td>\n",
              "      <td>2020-04-07 17:56:25</td>\n",
              "      <td>0 days 14:33:41</td>\n",
              "    </tr>\n",
              "    <tr>\n",
              "      <th>3</th>\n",
              "      <td>100392</td>\n",
              "      <td>2</td>\n",
              "      <td>unknown</td>\n",
              "      <td>61641</td>\n",
              "      <td>2020-04-09 20:01:41</td>\n",
              "      <td>2 days 02:05:16</td>\n",
              "    </tr>\n",
              "    <tr>\n",
              "      <th>4</th>\n",
              "      <td>100392</td>\n",
              "      <td>4</td>\n",
              "      <td>unknown</td>\n",
              "      <td>75764</td>\n",
              "      <td>2020-04-12 22:06:12</td>\n",
              "      <td>3 days 02:04:31</td>\n",
              "    </tr>\n",
              "  </tbody>\n",
              "</table>\n",
              "</div>"
            ],
            "text/plain": [
              "     user  event_type parameter     id            DateTime            diff\n",
              "0  100392           1      text  18912 2020-04-03 13:03:14             NaT\n",
              "1  100392           0   unknown  39539 2020-04-07 03:22:44 3 days 14:19:30\n",
              "2  100392           0   unknown  45393 2020-04-07 17:56:25 0 days 14:33:41\n",
              "3  100392           2   unknown  61641 2020-04-09 20:01:41 2 days 02:05:16\n",
              "4  100392           4   unknown  75764 2020-04-12 22:06:12 3 days 02:04:31"
            ]
          },
          "metadata": {
            "tags": []
          },
          "execution_count": 7
        }
      ]
    },
    {
      "cell_type": "markdown",
      "metadata": {
        "id": "fvG2Bl2t69M0"
      },
      "source": [
        "датафрейм будет содержать события, которые будут считаться первыми событиями сессий. К таким событиям относятся все события, которые произошли спустя более чем 30 минут после предыдущего, либо события, которые были первыми для пользователя (NaT в колонке ’diff’).\n"
      ]
    },
    {
      "cell_type": "code",
      "metadata": {
        "id": "d-1QdrvP6YfF",
        "outputId": "61e97105-19a5-41bd-a28e-60f24351a0fe",
        "colab": {
          "base_uri": "https://localhost:8080/",
          "height": 306
        }
      },
      "source": [
        "sessions_start = data[(data['diff'].isnull()) | (data['diff'] > '1800 seconds')]\n",
        "sessions_start['session_id'] = sessions_start['id']\n",
        "sessions_start.head()"
      ],
      "execution_count": 8,
      "outputs": [
        {
          "output_type": "stream",
          "text": [
            "/usr/local/lib/python3.6/dist-packages/ipykernel_launcher.py:2: SettingWithCopyWarning: \n",
            "A value is trying to be set on a copy of a slice from a DataFrame.\n",
            "Try using .loc[row_indexer,col_indexer] = value instead\n",
            "\n",
            "See the caveats in the documentation: https://pandas.pydata.org/pandas-docs/stable/user_guide/indexing.html#returning-a-view-versus-a-copy\n",
            "  \n"
          ],
          "name": "stderr"
        },
        {
          "output_type": "execute_result",
          "data": {
            "text/html": [
              "<div>\n",
              "<style scoped>\n",
              "    .dataframe tbody tr th:only-of-type {\n",
              "        vertical-align: middle;\n",
              "    }\n",
              "\n",
              "    .dataframe tbody tr th {\n",
              "        vertical-align: top;\n",
              "    }\n",
              "\n",
              "    .dataframe thead th {\n",
              "        text-align: right;\n",
              "    }\n",
              "</style>\n",
              "<table border=\"1\" class=\"dataframe\">\n",
              "  <thead>\n",
              "    <tr style=\"text-align: right;\">\n",
              "      <th></th>\n",
              "      <th>user</th>\n",
              "      <th>event_type</th>\n",
              "      <th>parameter</th>\n",
              "      <th>id</th>\n",
              "      <th>DateTime</th>\n",
              "      <th>diff</th>\n",
              "      <th>session_id</th>\n",
              "    </tr>\n",
              "  </thead>\n",
              "  <tbody>\n",
              "    <tr>\n",
              "      <th>0</th>\n",
              "      <td>100392</td>\n",
              "      <td>1</td>\n",
              "      <td>text</td>\n",
              "      <td>18912</td>\n",
              "      <td>2020-04-03 13:03:14</td>\n",
              "      <td>NaT</td>\n",
              "      <td>18912</td>\n",
              "    </tr>\n",
              "    <tr>\n",
              "      <th>1</th>\n",
              "      <td>100392</td>\n",
              "      <td>0</td>\n",
              "      <td>unknown</td>\n",
              "      <td>39539</td>\n",
              "      <td>2020-04-07 03:22:44</td>\n",
              "      <td>3 days 14:19:30</td>\n",
              "      <td>39539</td>\n",
              "    </tr>\n",
              "    <tr>\n",
              "      <th>2</th>\n",
              "      <td>100392</td>\n",
              "      <td>0</td>\n",
              "      <td>unknown</td>\n",
              "      <td>45393</td>\n",
              "      <td>2020-04-07 17:56:25</td>\n",
              "      <td>0 days 14:33:41</td>\n",
              "      <td>45393</td>\n",
              "    </tr>\n",
              "    <tr>\n",
              "      <th>3</th>\n",
              "      <td>100392</td>\n",
              "      <td>2</td>\n",
              "      <td>unknown</td>\n",
              "      <td>61641</td>\n",
              "      <td>2020-04-09 20:01:41</td>\n",
              "      <td>2 days 02:05:16</td>\n",
              "      <td>61641</td>\n",
              "    </tr>\n",
              "    <tr>\n",
              "      <th>4</th>\n",
              "      <td>100392</td>\n",
              "      <td>4</td>\n",
              "      <td>unknown</td>\n",
              "      <td>75764</td>\n",
              "      <td>2020-04-12 22:06:12</td>\n",
              "      <td>3 days 02:04:31</td>\n",
              "      <td>75764</td>\n",
              "    </tr>\n",
              "  </tbody>\n",
              "</table>\n",
              "</div>"
            ],
            "text/plain": [
              "     user  event_type parameter  ...            DateTime            diff session_id\n",
              "0  100392           1      text  ... 2020-04-03 13:03:14             NaT      18912\n",
              "1  100392           0   unknown  ... 2020-04-07 03:22:44 3 days 14:19:30      39539\n",
              "2  100392           0   unknown  ... 2020-04-07 17:56:25 0 days 14:33:41      45393\n",
              "3  100392           2   unknown  ... 2020-04-09 20:01:41 2 days 02:05:16      61641\n",
              "4  100392           4   unknown  ... 2020-04-12 22:06:12 3 days 02:04:31      75764\n",
              "\n",
              "[5 rows x 7 columns]"
            ]
          },
          "metadata": {
            "tags": []
          },
          "execution_count": 8
        }
      ]
    },
    {
      "cell_type": "code",
      "metadata": {
        "id": "k5MvIyVq6YiW"
      },
      "source": [
        "data = data.sort_values('id')\n",
        "sessions_start = sessions_start.sort_values('id')\n",
        "data = pd.merge_asof(data,sessions_start[['id','user','session_id']],on='id',by='user')"
      ],
      "execution_count": 9,
      "outputs": []
    },
    {
      "cell_type": "code",
      "metadata": {
        "id": "m3e9x5x86YlS",
        "outputId": "f1b307da-77b1-407a-e756-a26d413120fc",
        "colab": {
          "base_uri": "https://localhost:8080/",
          "height": 204
        }
      },
      "source": [
        "data.head()"
      ],
      "execution_count": 10,
      "outputs": [
        {
          "output_type": "execute_result",
          "data": {
            "text/html": [
              "<div>\n",
              "<style scoped>\n",
              "    .dataframe tbody tr th:only-of-type {\n",
              "        vertical-align: middle;\n",
              "    }\n",
              "\n",
              "    .dataframe tbody tr th {\n",
              "        vertical-align: top;\n",
              "    }\n",
              "\n",
              "    .dataframe thead th {\n",
              "        text-align: right;\n",
              "    }\n",
              "</style>\n",
              "<table border=\"1\" class=\"dataframe\">\n",
              "  <thead>\n",
              "    <tr style=\"text-align: right;\">\n",
              "      <th></th>\n",
              "      <th>user</th>\n",
              "      <th>event_type</th>\n",
              "      <th>parameter</th>\n",
              "      <th>id</th>\n",
              "      <th>DateTime</th>\n",
              "      <th>diff</th>\n",
              "      <th>session_id</th>\n",
              "    </tr>\n",
              "  </thead>\n",
              "  <tbody>\n",
              "    <tr>\n",
              "      <th>0</th>\n",
              "      <td>180397</td>\n",
              "      <td>3</td>\n",
              "      <td>NaN</td>\n",
              "      <td>0</td>\n",
              "      <td>2020-04-01 00:05:46</td>\n",
              "      <td>NaT</td>\n",
              "      <td>0</td>\n",
              "    </tr>\n",
              "    <tr>\n",
              "      <th>1</th>\n",
              "      <td>662939</td>\n",
              "      <td>4</td>\n",
              "      <td>music</td>\n",
              "      <td>1</td>\n",
              "      <td>2020-04-01 00:00:21</td>\n",
              "      <td>NaT</td>\n",
              "      <td>1</td>\n",
              "    </tr>\n",
              "    <tr>\n",
              "      <th>2</th>\n",
              "      <td>703220</td>\n",
              "      <td>2</td>\n",
              "      <td>NaN</td>\n",
              "      <td>2</td>\n",
              "      <td>2020-04-01 00:20:50</td>\n",
              "      <td>NaT</td>\n",
              "      <td>2</td>\n",
              "    </tr>\n",
              "    <tr>\n",
              "      <th>3</th>\n",
              "      <td>405034</td>\n",
              "      <td>1</td>\n",
              "      <td>unknown</td>\n",
              "      <td>3</td>\n",
              "      <td>2020-04-01 00:22:31</td>\n",
              "      <td>NaT</td>\n",
              "      <td>3</td>\n",
              "    </tr>\n",
              "    <tr>\n",
              "      <th>4</th>\n",
              "      <td>662939</td>\n",
              "      <td>0</td>\n",
              "      <td>text</td>\n",
              "      <td>4</td>\n",
              "      <td>2020-04-01 00:30:21</td>\n",
              "      <td>0 days 00:30:00</td>\n",
              "      <td>1</td>\n",
              "    </tr>\n",
              "  </tbody>\n",
              "</table>\n",
              "</div>"
            ],
            "text/plain": [
              "     user  event_type parameter  ...            DateTime            diff session_id\n",
              "0  180397           3       NaN  ... 2020-04-01 00:05:46             NaT          0\n",
              "1  662939           4     music  ... 2020-04-01 00:00:21             NaT          1\n",
              "2  703220           2       NaN  ... 2020-04-01 00:20:50             NaT          2\n",
              "3  405034           1   unknown  ... 2020-04-01 00:22:31             NaT          3\n",
              "4  662939           0      text  ... 2020-04-01 00:30:21 0 days 00:30:00          1\n",
              "\n",
              "[5 rows x 7 columns]"
            ]
          },
          "metadata": {
            "tags": []
          },
          "execution_count": 10
        }
      ]
    },
    {
      "cell_type": "markdown",
      "metadata": {
        "id": "dXwxPH7PB8pk"
      },
      "source": [
        "создадим колонку ’is_first_event_in_session’, для событий, которые были первыми в сессиях\n"
      ]
    },
    {
      "cell_type": "code",
      "metadata": {
        "id": "Bcaz5Ttu6Yol",
        "outputId": "ca5b6a3c-4193-4b73-e270-c01394740543",
        "colab": {
          "base_uri": "https://localhost:8080/",
          "height": 204
        }
      },
      "source": [
        "data['is_first_event_in_session'] = data['id'] == data['session_id']\n",
        "data.head()"
      ],
      "execution_count": 11,
      "outputs": [
        {
          "output_type": "execute_result",
          "data": {
            "text/html": [
              "<div>\n",
              "<style scoped>\n",
              "    .dataframe tbody tr th:only-of-type {\n",
              "        vertical-align: middle;\n",
              "    }\n",
              "\n",
              "    .dataframe tbody tr th {\n",
              "        vertical-align: top;\n",
              "    }\n",
              "\n",
              "    .dataframe thead th {\n",
              "        text-align: right;\n",
              "    }\n",
              "</style>\n",
              "<table border=\"1\" class=\"dataframe\">\n",
              "  <thead>\n",
              "    <tr style=\"text-align: right;\">\n",
              "      <th></th>\n",
              "      <th>user</th>\n",
              "      <th>event_type</th>\n",
              "      <th>parameter</th>\n",
              "      <th>id</th>\n",
              "      <th>DateTime</th>\n",
              "      <th>diff</th>\n",
              "      <th>session_id</th>\n",
              "      <th>is_first_event_in_session</th>\n",
              "    </tr>\n",
              "  </thead>\n",
              "  <tbody>\n",
              "    <tr>\n",
              "      <th>0</th>\n",
              "      <td>180397</td>\n",
              "      <td>3</td>\n",
              "      <td>NaN</td>\n",
              "      <td>0</td>\n",
              "      <td>2020-04-01 00:05:46</td>\n",
              "      <td>NaT</td>\n",
              "      <td>0</td>\n",
              "      <td>True</td>\n",
              "    </tr>\n",
              "    <tr>\n",
              "      <th>1</th>\n",
              "      <td>662939</td>\n",
              "      <td>4</td>\n",
              "      <td>music</td>\n",
              "      <td>1</td>\n",
              "      <td>2020-04-01 00:00:21</td>\n",
              "      <td>NaT</td>\n",
              "      <td>1</td>\n",
              "      <td>True</td>\n",
              "    </tr>\n",
              "    <tr>\n",
              "      <th>2</th>\n",
              "      <td>703220</td>\n",
              "      <td>2</td>\n",
              "      <td>NaN</td>\n",
              "      <td>2</td>\n",
              "      <td>2020-04-01 00:20:50</td>\n",
              "      <td>NaT</td>\n",
              "      <td>2</td>\n",
              "      <td>True</td>\n",
              "    </tr>\n",
              "    <tr>\n",
              "      <th>3</th>\n",
              "      <td>405034</td>\n",
              "      <td>1</td>\n",
              "      <td>unknown</td>\n",
              "      <td>3</td>\n",
              "      <td>2020-04-01 00:22:31</td>\n",
              "      <td>NaT</td>\n",
              "      <td>3</td>\n",
              "      <td>True</td>\n",
              "    </tr>\n",
              "    <tr>\n",
              "      <th>4</th>\n",
              "      <td>662939</td>\n",
              "      <td>0</td>\n",
              "      <td>text</td>\n",
              "      <td>4</td>\n",
              "      <td>2020-04-01 00:30:21</td>\n",
              "      <td>0 days 00:30:00</td>\n",
              "      <td>1</td>\n",
              "      <td>False</td>\n",
              "    </tr>\n",
              "  </tbody>\n",
              "</table>\n",
              "</div>"
            ],
            "text/plain": [
              "     user  event_type  ... session_id  is_first_event_in_session\n",
              "0  180397           3  ...          0                       True\n",
              "1  662939           4  ...          1                       True\n",
              "2  703220           2  ...          2                       True\n",
              "3  405034           1  ...          3                       True\n",
              "4  662939           0  ...          1                      False\n",
              "\n",
              "[5 rows x 8 columns]"
            ]
          },
          "metadata": {
            "tags": []
          },
          "execution_count": 11
        }
      ]
    },
    {
      "cell_type": "code",
      "metadata": {
        "id": "dVD6inZPKzX_"
      },
      "source": [
        "import datetime\n",
        "session_test_min = '2020-04-14'\n",
        "session_test_max = '2020-04-15'\n",
        "\n",
        "session_date_min = datetime.datetime.strptime(session_test_min, '%Y-%m-%d')\n",
        "session_date_max = datetime.datetime.strptime(session_test_max, '%Y-%m-%d')"
      ],
      "execution_count": 12,
      "outputs": []
    },
    {
      "cell_type": "code",
      "metadata": {
        "id": "G7UACmA-3zRM",
        "outputId": "083a9559-bb66-4ad2-da06-ddcadb250762",
        "colab": {
          "base_uri": "https://localhost:8080/",
          "height": 204
        }
      },
      "source": [
        "sessins_amount = data[(data.DateTime >= session_date_min) & (data.DateTime < session_date_max) \\\n",
        "                      & (data.is_first_event_in_session == True)]\n",
        "sessins_amount.head()"
      ],
      "execution_count": 13,
      "outputs": [
        {
          "output_type": "execute_result",
          "data": {
            "text/html": [
              "<div>\n",
              "<style scoped>\n",
              "    .dataframe tbody tr th:only-of-type {\n",
              "        vertical-align: middle;\n",
              "    }\n",
              "\n",
              "    .dataframe tbody tr th {\n",
              "        vertical-align: top;\n",
              "    }\n",
              "\n",
              "    .dataframe thead th {\n",
              "        text-align: right;\n",
              "    }\n",
              "</style>\n",
              "<table border=\"1\" class=\"dataframe\">\n",
              "  <thead>\n",
              "    <tr style=\"text-align: right;\">\n",
              "      <th></th>\n",
              "      <th>user</th>\n",
              "      <th>event_type</th>\n",
              "      <th>parameter</th>\n",
              "      <th>id</th>\n",
              "      <th>DateTime</th>\n",
              "      <th>diff</th>\n",
              "      <th>session_id</th>\n",
              "      <th>is_first_event_in_session</th>\n",
              "    </tr>\n",
              "  </thead>\n",
              "  <tbody>\n",
              "    <tr>\n",
              "      <th>84290</th>\n",
              "      <td>783636</td>\n",
              "      <td>2</td>\n",
              "      <td>video</td>\n",
              "      <td>84290</td>\n",
              "      <td>2020-04-14 00:04:00</td>\n",
              "      <td>0 days 06:25:55</td>\n",
              "      <td>84290</td>\n",
              "      <td>True</td>\n",
              "    </tr>\n",
              "    <tr>\n",
              "      <th>84307</th>\n",
              "      <td>728097</td>\n",
              "      <td>3</td>\n",
              "      <td>NaN</td>\n",
              "      <td>84307</td>\n",
              "      <td>2020-04-14 00:07:46</td>\n",
              "      <td>0 days 06:05:17</td>\n",
              "      <td>84307</td>\n",
              "      <td>True</td>\n",
              "    </tr>\n",
              "    <tr>\n",
              "      <th>84312</th>\n",
              "      <td>612033</td>\n",
              "      <td>0</td>\n",
              "      <td>video</td>\n",
              "      <td>84312</td>\n",
              "      <td>2020-04-14 00:16:00</td>\n",
              "      <td>1 days 01:38:20</td>\n",
              "      <td>84312</td>\n",
              "      <td>True</td>\n",
              "    </tr>\n",
              "    <tr>\n",
              "      <th>84313</th>\n",
              "      <td>265944</td>\n",
              "      <td>4</td>\n",
              "      <td>music</td>\n",
              "      <td>84313</td>\n",
              "      <td>2020-04-14 00:19:16</td>\n",
              "      <td>0 days 06:42:01</td>\n",
              "      <td>84313</td>\n",
              "      <td>True</td>\n",
              "    </tr>\n",
              "    <tr>\n",
              "      <th>84314</th>\n",
              "      <td>980582</td>\n",
              "      <td>4</td>\n",
              "      <td>NaN</td>\n",
              "      <td>84314</td>\n",
              "      <td>2020-04-14 00:25:09</td>\n",
              "      <td>0 days 06:11:16</td>\n",
              "      <td>84314</td>\n",
              "      <td>True</td>\n",
              "    </tr>\n",
              "  </tbody>\n",
              "</table>\n",
              "</div>"
            ],
            "text/plain": [
              "         user  event_type  ... session_id  is_first_event_in_session\n",
              "84290  783636           2  ...      84290                       True\n",
              "84307  728097           3  ...      84307                       True\n",
              "84312  612033           0  ...      84312                       True\n",
              "84313  265944           4  ...      84313                       True\n",
              "84314  980582           4  ...      84314                       True\n",
              "\n",
              "[5 rows x 8 columns]"
            ]
          },
          "metadata": {
            "tags": []
          },
          "execution_count": 13
        }
      ]
    },
    {
      "cell_type": "markdown",
      "metadata": {
        "id": "udTLrDeiAQY2"
      },
      "source": [
        ""
      ]
    },
    {
      "cell_type": "code",
      "metadata": {
        "id": "uW4vnlrj-CNN",
        "outputId": "a413a5ad-c7b9-41fa-9321-82f8b7c6d25a",
        "colab": {
          "base_uri": "https://localhost:8080/"
        }
      },
      "source": [
        "sessins_amount.shape[0]"
      ],
      "execution_count": 14,
      "outputs": [
        {
          "output_type": "execute_result",
          "data": {
            "text/plain": [
              "4066"
            ]
          },
          "metadata": {
            "tags": []
          },
          "execution_count": 14
        }
      ]
    }
  ]
}